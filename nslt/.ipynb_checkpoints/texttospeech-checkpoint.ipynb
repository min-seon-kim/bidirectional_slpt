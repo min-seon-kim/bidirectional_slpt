{
 "cells": [
  {
   "cell_type": "markdown",
   "metadata": {},
   "source": [
    "# Requirements\n",
    "\n",
    "1) Gtts for transforming text to speech\n",
    "\n",
    "`pip install gtts`\n",
    "\n",
    "2) pygame for play transformed speech\n",
    "\n",
    "`pip install pygame`"
   ]
  },
  {
   "cell_type": "code",
   "execution_count": 68,
   "metadata": {
    "collapsed": true
   },
   "outputs": [],
   "source": [
    "import speech_recognition as sr\n",
    "from gtts import gTTS  # Text를 speech 형식으로 출력\n",
    "\n",
    "\n",
    "import os\n",
    "import time\n",
    " \n",
    "import pygame # 소리 재생"
   ]
  },
  {
   "cell_type": "code",
   "execution_count": 69,
   "metadata": {
    "collapsed": true
   },
   "outputs": [],
   "source": [
    "dir_name = \"C:/Users/dohi1/texttospeechtest/\" # change to your directory\n",
    "\n",
    "def reply(text, index):\n",
    "    tts = gTTS(text=text, lang='en')\n",
    "    filename = dir_name +  text + str(index) + '.mp3' # 음성 파일 저장하는 경로와 파일명 지정\n",
    "    tts.save(filename)\n",
    "    \n",
    "    pygame.mixer.init(25100)  # 음성출력 속도 조절\n",
    "    pygame.mixer.music.load(filename)\n",
    "    pygame.mixer.music.play()"
   ]
  },
  {
   "cell_type": "code",
   "execution_count": 71,
   "metadata": {
    "collapsed": true
   },
   "outputs": [],
   "source": [
    "reply(\"hello everyone\", 0)"
   ]
  },
  {
   "cell_type": "code",
   "execution_count": null,
   "metadata": {
    "collapsed": true
   },
   "outputs": [],
   "source": [
    "while True:\n",
    "    replylist = []\n",
    "    i = 0\n",
    "    answer = '' # 저장된 text 파일에서 값 읽어오기\n",
    "\n",
    "    reply(answer, i) # 음성으로 변환해서 출력 \n",
    "    i += 1\n",
    "\n",
    "    replylist.append(answer+str(i-1)+'.mp3')\n",
    "    \n",
    "\n",
    "# 코드 끝나면 음성파일 삭제\n",
    "for replies in replylist:\n",
    "    print(replies)\n",
    "    os.remove('/'+replies)"
   ]
  }
 ],
 "metadata": {
  "kernelspec": {
   "display_name": "Python 2",
   "language": "python",
   "name": "python2"
  },
  "language_info": {
   "codemirror_mode": {
    "name": "ipython",
    "version": 2
   },
   "file_extension": ".py",
   "mimetype": "text/x-python",
   "name": "python",
   "nbconvert_exporter": "python",
   "pygments_lexer": "ipython2",
   "version": "2.7.12"
  }
 },
 "nbformat": 4,
 "nbformat_minor": 5
}
